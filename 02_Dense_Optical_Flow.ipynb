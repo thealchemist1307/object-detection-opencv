{
 "cells": [
  {
   "cell_type": "code",
   "execution_count": 8,
   "metadata": {},
   "outputs": [
    {
     "ename": "KeyboardInterrupt",
     "evalue": "",
     "output_type": "error",
     "traceback": [
      "\u001b[0;31m-------------------------------------------------------------\u001b[0m",
      "\u001b[0;31mKeyboardInterrupt\u001b[0m           Traceback (most recent call last)",
      "\u001b[0;32m<ipython-input-8-835720fd91fc>\u001b[0m in \u001b[0;36m<module>\u001b[0;34m\u001b[0m\n\u001b[1;32m     33\u001b[0m \u001b[0;34m\u001b[0m\u001b[0m\n\u001b[1;32m     34\u001b[0m     \u001b[0;31m# Calculate dense optical flow by Farneback\u001b[0m\u001b[0;34m\u001b[0m\u001b[0;34m\u001b[0m\u001b[0;34m\u001b[0m\u001b[0m\n\u001b[0;32m---> 35\u001b[0;31m     \u001b[0mflow\u001b[0m\u001b[0;34m=\u001b[0m\u001b[0mcv2\u001b[0m\u001b[0;34m.\u001b[0m\u001b[0mcalcOpticalFlowFarneback\u001b[0m\u001b[0;34m(\u001b[0m\u001b[0mprev_gray\u001b[0m\u001b[0;34m,\u001b[0m\u001b[0mgray\u001b[0m\u001b[0;34m,\u001b[0m\u001b[0;32mNone\u001b[0m\u001b[0;34m,\u001b[0m\u001b[0;36m0.5\u001b[0m\u001b[0;34m,\u001b[0m\u001b[0;36m3\u001b[0m\u001b[0;34m,\u001b[0m\u001b[0;36m15\u001b[0m\u001b[0;34m,\u001b[0m\u001b[0;36m3\u001b[0m\u001b[0;34m,\u001b[0m\u001b[0;36m5\u001b[0m\u001b[0;34m,\u001b[0m\u001b[0;36m1.2\u001b[0m\u001b[0;34m,\u001b[0m\u001b[0;36m0\u001b[0m\u001b[0;34m)\u001b[0m\u001b[0;34m\u001b[0m\u001b[0;34m\u001b[0m\u001b[0m\n\u001b[0m\u001b[1;32m     36\u001b[0m \u001b[0;34m\u001b[0m\u001b[0m\n\u001b[1;32m     37\u001b[0m     \u001b[0;31m# Compute Magnitude and Angle\u001b[0m\u001b[0;34m\u001b[0m\u001b[0;34m\u001b[0m\u001b[0;34m\u001b[0m\u001b[0m\n",
      "\u001b[0;31mKeyboardInterrupt\u001b[0m: "
     ]
    }
   ],
   "source": [
    "# Import Libraries\n",
    "\n",
    "import numpy as np\n",
    "import cv2\n",
    "\n",
    "# Video Capture\n",
    "cap= cv2.VideoCapture('Videos/chaplin.mp4')\n",
    "\n",
    "# Read the capture and get the first frame\n",
    "ret,first_frame=cap.read()\n",
    "\n",
    "\n",
    "# Convert frame to Grayscale\n",
    "prev_gray=cv2.cvtColor(first_frame,cv2.COLOR_BGR2GRAY)\n",
    "\n",
    "# Create# Create an image with the same dimensions as the frame for later drawing purposes\n",
    "mask=np.zeros_like(first_frame)\n",
    "\n",
    "# Saturation to maximum\n",
    "mask[...,1]=255\n",
    "\n",
    "# While loop\n",
    "while(cap.isOpened()):\n",
    "\n",
    "    # Read the capture and get the first frame\n",
    "    ret,frame=cap.read()\n",
    "    \n",
    "    # Open new window and display the input frame\n",
    "    cv2.imshow('input',frame)\n",
    "    \n",
    "    # Convert all frame to Grayscale (previously we did only the first frame)\n",
    "    gray=cv2.cvtColor(frame,cv2.COLOR_BGR2GRAY)\n",
    "    \n",
    "    # Calculate dense optical flow by Farneback\n",
    "    flow=cv2.calcOpticalFlowFarneback(prev_gray,gray,None,0.5,3,15,3,5,1.2,0)\n",
    "    \n",
    "    # Compute Magnitude and Angle\n",
    "    magn,angle=cv2.cartToPolar(flow[...,0],flow[...,1])\n",
    "    \n",
    "    # Set image hue depanding on the optical flow direction\n",
    "    mask[...,0]=angle*180/np.pi/2    \n",
    "        \n",
    "    # Normalize the magnitude\n",
    "    mask[...,2]=cv2.normalize(magn,None,0,255,cv2.NORM_MINMAX)\n",
    "    \n",
    "    # Convert HSV to RGB\n",
    "    rgb = cv2.cvtColor(mask,cv2.COLOR_HSV2RGB)\n",
    "    \n",
    "    # Open new window and display the output\n",
    "    cv2.imshow(\"Dense Optical Flow\",rgb)\n",
    "    \n",
    "    # Update previous frame\n",
    "    prev_gray=gray\n",
    "    \n",
    "    # Close the frame\n",
    "    if(cv2.waitKey(30) & 0xFF ==ord('q')):\n",
    "        break\n",
    "    \n",
    "# Release and Destroy\n",
    "cap.release()\n",
    "cv2,destroyAllWindows()\n"
   ]
  },
  {
   "cell_type": "code",
   "execution_count": null,
   "metadata": {},
   "outputs": [],
   "source": []
  },
  {
   "cell_type": "code",
   "execution_count": null,
   "metadata": {},
   "outputs": [],
   "source": []
  }
 ],
 "metadata": {
  "kernelspec": {
   "display_name": "Python 3",
   "language": "python",
   "name": "python3"
  },
  "language_info": {
   "codemirror_mode": {
    "name": "ipython",
    "version": 3
   },
   "file_extension": ".py",
   "mimetype": "text/x-python",
   "name": "python",
   "nbconvert_exporter": "python",
   "pygments_lexer": "ipython3",
   "version": "3.8.2"
  }
 },
 "nbformat": 4,
 "nbformat_minor": 2
}
