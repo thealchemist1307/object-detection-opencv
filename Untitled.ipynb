{
 "cells": [
  {
   "cell_type": "code",
   "execution_count": 1,
   "metadata": {},
   "outputs": [],
   "source": [
    "import cv2"
   ]
  },
  {
   "cell_type": "code",
   "execution_count": 2,
   "metadata": {},
   "outputs": [],
   "source": [
    "def ask_for_tracker():\n",
    "    print(\"Hi,! What Tracker Api\")\n",
    "    print(\"Enter 0 for Boosting \")\n",
    "    print(\"Enter 1 for MIL \")\n",
    "    print(\"Enter 2 for KCF \")\n",
    "    print(\"Enter 3 for TLD \")\n",
    "    print(\"Enter 4 for MEDIANFLOW \")\n",
    "    print(\"Enter 5 for GOTURN \")\n",
    "    print(\"Enter 6 for MOSSE \")\n",
    "    print(\"Enter 7 for CSRT \")\n",
    "    choice =input(\"Enter Value\")\n",
    "    \n",
    "    if(choice=='0'):\n",
    "        tracker=cv2.TrackerBoosting_create()\n",
    "    if(choice=='1'):\n",
    "        tracker=cv2.TrackerMIL_create()\n",
    "    if(choice=='2'):\n",
    "        tracker=cv2.TrackerKCF_create()\n",
    "    if(choice=='3'):\n",
    "        tracker=cv2.TrackerTLD_create()\n",
    "    if(choice=='4'):\n",
    "        tracker=cv2.TrackerMedianFlow_create()\n",
    "    if(choice=='5'):\n",
    "        tracker=cv2.TrackerGOTURN_create()\n",
    "    if(choice=='6'):\n",
    "        tracker=cv2.TrackerMOSSE_create()\n",
    "    if(choice=='7'):\n",
    "        tracker=cv2.TrackerCSRT_create()\n",
    "    \n",
    "    return tracker"
   ]
  },
  {
   "cell_type": "code",
   "execution_count": 14,
   "metadata": {},
   "outputs": [
    {
     "name": "stdout",
     "output_type": "stream",
     "text": [
      "Hi,! What Tracker Api\n",
      "Enter 0 for Boosting \n",
      "Enter 1 for MIL \n",
      "Enter 2 for KCF \n",
      "Enter 3 for TLD \n",
      "Enter 4 for MEDIANFLOW \n",
      "Enter 5 for GOTURN \n",
      "Enter 6 for MOSSE \n",
      "Enter 7 for CSRT \n",
      "Enter Value7\n"
     ]
    },
    {
     "ename": "AttributeError",
     "evalue": "module 'cv2' has no attribute 'selectRoi'",
     "output_type": "error",
     "traceback": [
      "\u001b[0;31m-------------------------------------------------------------\u001b[0m",
      "\u001b[0;31mAttributeError\u001b[0m              Traceback (most recent call last)",
      "\u001b[0;32m<ipython-input-14-184f1abb047b>\u001b[0m in \u001b[0;36m<module>\u001b[0;34m\u001b[0m\n\u001b[1;32m     12\u001b[0m \u001b[0;34m\u001b[0m\u001b[0m\n\u001b[1;32m     13\u001b[0m \u001b[0;31m# Select our ROI\u001b[0m\u001b[0;34m\u001b[0m\u001b[0;34m\u001b[0m\u001b[0;34m\u001b[0m\u001b[0m\n\u001b[0;32m---> 14\u001b[0;31m \u001b[0mroi\u001b[0m\u001b[0;34m=\u001b[0m\u001b[0mcv2\u001b[0m\u001b[0;34m.\u001b[0m\u001b[0mselectRoi\u001b[0m\u001b[0;34m(\u001b[0m\u001b[0mframe\u001b[0m\u001b[0;34m,\u001b[0m\u001b[0mfalse\u001b[0m\u001b[0;34m)\u001b[0m\u001b[0;34m\u001b[0m\u001b[0;34m\u001b[0m\u001b[0m\n\u001b[0m\u001b[1;32m     15\u001b[0m \u001b[0;34m\u001b[0m\u001b[0m\n\u001b[1;32m     16\u001b[0m \u001b[0;31m# Initialize tracker\u001b[0m\u001b[0;34m\u001b[0m\u001b[0;34m\u001b[0m\u001b[0;34m\u001b[0m\u001b[0m\n",
      "\u001b[0;31mAttributeError\u001b[0m: module 'cv2' has no attribute 'selectRoi'"
     ]
    }
   ],
   "source": [
    "# Tracker\n",
    "tracker=ask_for_tracker()\n",
    "\n",
    "# Tracker name\n",
    "tracker_name=str(tracker).split()[0][1:]\n",
    "\n",
    "# Capture the Video\n",
    "cap=cv2.VideoCapture('Videos/Vehicles.mp4')\n",
    "\n",
    "# Read the first frame\n",
    "ret,frame=cap.read()\n",
    "\n",
    "# Select our ROI\n",
    "roi=cv2.selectRoi(frame,false)\n",
    "\n",
    "# Initialize tracker\n",
    "ret=tracker.init()\n",
    "\n",
    "\n",
    "# while Loop\n",
    "while True:\n",
    "    # Read the capture\n",
    "    ret,frame=cap.read()\n",
    "    \n",
    "    # update tracker\n",
    "    success,roi=tracker.update(frame)\n",
    "    \n",
    "    # roi -> from tuple to int\n",
    "    (x,y,w,h)=tuple(map(int,roi))\n",
    "    \n",
    "    # Draw rects as tracker moves\n",
    "    if success:\n",
    "        # Sucess on tracking\n",
    "        pts1=(x,y)\n",
    "        pts2=(x+w,y+h)\n",
    "        cv2.rectangle(frame,pts1,pts2,(255,125,25),3)\n",
    "        \n",
    "    # else\n",
    "    else:\n",
    "    \n",
    "        # Failure on tracking\n",
    "        cv2.putText(frame,'Fail to track',(100,200),cv.FONT_HERSHEY_SIMPLEX,1,(25,125,255),3)\n",
    "        \n",
    "    # Display Tracker\n",
    "    cv2.putText(frame,traker_name,(20,400),cv2.FONT_HERSHEY_SIMPLEX,1,(255,255,0),3)\n",
    "    \n",
    "    # Display result\n",
    "    cv2.imshow(tracker_name,frame) \n",
    "        \n",
    "    # Exit with Esc button\n",
    "    if(cv2.waitKey(50) & 0xFF==27): \n",
    "        break\n",
    "    \n",
    "# Release the Capture & Destroy All Windows\n",
    "cap.release()\n",
    "cv2.destroyAllWindows()\n",
    "\n",
    "    \n",
    "    "
   ]
  },
  {
   "cell_type": "code",
   "execution_count": null,
   "metadata": {},
   "outputs": [],
   "source": []
  }
 ],
 "metadata": {
  "kernelspec": {
   "display_name": "Python 3",
   "language": "python",
   "name": "python3"
  },
  "language_info": {
   "codemirror_mode": {
    "name": "ipython",
    "version": 3
   },
   "file_extension": ".py",
   "mimetype": "text/x-python",
   "name": "python",
   "nbconvert_exporter": "python",
   "pygments_lexer": "ipython3",
   "version": "3.8.2"
  }
 },
 "nbformat": 4,
 "nbformat_minor": 4
}
